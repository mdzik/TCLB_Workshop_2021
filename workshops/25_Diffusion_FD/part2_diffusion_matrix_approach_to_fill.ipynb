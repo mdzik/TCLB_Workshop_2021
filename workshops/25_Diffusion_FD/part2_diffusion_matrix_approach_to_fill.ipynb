{
 "cells": [
  {
   "cell_type": "markdown",
   "metadata": {},
   "source": [
    "[@ggruszczynski](https://github.com/ggruszczynski)"
   ]
  },
  {
   "cell_type": "code",
   "execution_count": null,
   "metadata": {},
   "outputs": [],
   "source": [
    "from sympy import fourier_transform, exp, sqrt, pi, cos, simplify\n",
    "from sympy.abc import x, k, t, symbols\n",
    "from sympy import init_printing\n",
    "init_printing(use_unicode=False, wrap_line=False)\n",
    "\n",
    "import timeit\n",
    "import numpy as np\n",
    "import matplotlib.pyplot as plt"
   ]
  },
  {
   "cell_type": "markdown",
   "metadata": {},
   "source": [
    "Diffusion part 2: matrix approach; implicit and explicit scheme \n",
    "-----\n",
    "***"
   ]
  },
  {
   "cell_type": "markdown",
   "metadata": {},
   "source": [
    "The one-dimensional diffusion equation is:\n",
    "\n",
    "$$\\frac{\\partial u}{\\partial t}= \\nu \\frac{\\partial^2 u}{\\partial x^2}$$\n",
    "\n",
    "The first thing you should notice is that —unlike the previous two simple equations we have studied— this equation has a second-order derivative. We first need to learn what to do with it!"
   ]
  },
  {
   "cell_type": "markdown",
   "metadata": {},
   "source": [
    "### Discretizing $\\frac{\\partial ^2 u}{\\partial x^2}$"
   ]
  },
  {
   "cell_type": "markdown",
   "metadata": {},
   "source": [
    "The second-order derivative can be represented geometrically as the line tangent to the curve given by the first derivative.  We will discretize the second-order derivative with a Central Difference scheme: a combination of Forward Difference and Backward Difference of the first derivative.  Consider the Taylor expansion of $u_{i+1}$ and $u_{i-1}$ around $u_i$:\n",
    "\n",
    "$u_{i+1} = u_i + \\Delta x \\frac{\\partial u}{\\partial x}\\bigg|_i + \\frac{\\Delta x^2}{2} \\frac{\\partial ^2 u}{\\partial x^2}\\bigg|_i + \\frac{\\Delta x^3}{3!} \\frac{\\partial ^3 u}{\\partial x^3}\\bigg|_i + O(\\Delta x^4)$\n",
    "\n",
    "$u_{i-1} = u_i - \\Delta x \\frac{\\partial u}{\\partial x}\\bigg|_i + \\frac{\\Delta x^2}{2} \\frac{\\partial ^2 u}{\\partial x^2}\\bigg|_i - \\frac{\\Delta x^3}{3!} \\frac{\\partial ^3 u}{\\partial x^3}\\bigg|_i + O(\\Delta x^4)$\n",
    "\n",
    "If we add these two expansions, you can see that the odd-numbered derivative terms will cancel each other out.  If we neglect any terms of $O(\\Delta x^4)$ or higher (and really, those are very small), then we can rearrange the sum of these two expansions to solve for our second-derivative.  \n"
   ]
  },
  {
   "cell_type": "markdown",
   "metadata": {},
   "source": [
    "$u_{i+1} + u_{i-1} = 2u_i+\\Delta x^2 \\frac{\\partial ^2 u}{\\partial x^2}\\bigg|_i + O(\\Delta x^4)$\n",
    "\n",
    "Then rearrange to solve for $\\frac{\\partial ^2 u}{\\partial x^2}\\bigg|_i$ and the result is:\n",
    "\n",
    "$$\\frac{\\partial ^2 u}{\\partial x^2}=\\frac{u_{i+1}-2u_{i}+u_{i-1}}{\\Delta x^2} + O(\\Delta x^4)$$\n"
   ]
  },
  {
   "cell_type": "markdown",
   "metadata": {},
   "source": [
    "### Back to Step 3"
   ]
  },
  {
   "cell_type": "markdown",
   "metadata": {},
   "source": [
    "We can now write the discretized version of the diffusion equation in 1D:\n",
    "\n",
    "$$\\frac{u_{i}^{n+1}-u_{i}^{n}}{\\Delta t}=\\nu\\frac{u_{i+1}^{n}-2u_{i}^{n}+u_{i-1}^{n}}{\\Delta x^2}$$\n",
    "\n",
    "As before, we notice that once we have an initial condition, the only unknown is $u_{i}^{n+1}$, so we re-arrange the equation solving for our unknown:\n",
    "\n",
    "$$u_{i}^{n+1}=u_{i}^{n}+\\underbrace{\\frac{\\nu\\Delta t}{\\Delta x^2}}_{\\beta}(u_{i+1}^{n}-2u_{i}^{n}+u_{i-1}^{n})$$\n",
    "\n",
    "\n",
    "$$u_{i}^{n+1}=\\beta u_{i-1}^{n} + u_{i}^{n}(1- 2 \\beta) +\\beta u_{i+1}^{n}$$\n",
    "\n",
    "The above discrete equation allows us to write a program to advance a solution in time. But we need an initial condition. Let's continue using our favorite: the hat function. So, at $t=0$, $u=2$ in the interval $0.5\\le x\\le 1$ and $u=1$ everywhere else. We are ready to number-crunch!"
   ]
  },
  {
   "cell_type": "code",
   "execution_count": null,
   "metadata": {},
   "outputs": [],
   "source": [
    "# %matplotlib inline\n",
    "\n",
    "nx = 128\n",
    "domain_length = 64\n",
    "dx = domain_length / (nx-1)\n",
    "xspace = np.linspace(0, domain_length, nx)\n",
    "\n",
    "nt = 200                # the number of timesteps we want to calculate\n",
    "nu = 5                  # the value of viscosity\n",
    "sigma = .2              # sigma is a parameter, we'll learn more about it later\n",
    "dt = sigma * dx**2 / nu # dt is defined using sigma ... more later!\n",
    "\n",
    "u_IC = 0*np.ones(nx)                 # numpy function ones()\n",
    "u_IC[int((nx-1)/4):int(nx/2 + 1)] = 1 # setting u = 2 between 0.5 and 1 as per our I.C.s\n",
    "\n",
    "plt.plot(xspace, u_IC)"
   ]
  },
  {
   "cell_type": "markdown",
   "metadata": {},
   "source": [
    "# Matrix approach"
   ]
  },
  {
   "cell_type": "markdown",
   "metadata": {},
   "source": [
    "## Explicit, central FD - matrix approach\n",
    "\n",
    "\n",
    "Notice, that the scheme \n",
    "\n",
    "$$u_{i}^{n+1}=\\beta u_{i-1}^{n} + u_{i}^{n}(1- 2 \\beta) +\\beta u_{i+1}^{n}$$\n",
    "\n",
    "where $\\beta = \\frac{\\nu\\Delta t}{\\Delta x^2}$ can be formulated as:\n",
    "\n",
    "$$\n",
    "\\boldsymbol{u}^{n+1} = \\mathbb{A} \\boldsymbol{u}^n \n",
    "$$\n",
    "\n",
    "\n",
    "Observe, that $ \\mathbb{A} $ have a tridiagonal structure:\n",
    "\n",
    "$$\n",
    "\\begin{bmatrix} \n",
    "A_{0,0} & A_{0,1} & A_{0,2} & \\\\\n",
    "\\beta  & 1 - 2 \\beta& \\beta \\\\\n",
    "0 & \\beta  & 1- 2 \\beta & \\beta \\\\\n",
    "0 & 0 & \\beta & 1- 2 \\beta & \\beta \\\\\n",
    "... \\\\\n",
    "... \\\\\n",
    "... \\\\\n",
    "0 & 0 & 0 & 0 & 0 & \\beta & 1- 2 \\beta & \\beta \\\\\n",
    "0 & 0 & 0 & 0 & 0 & A_{n,n-2} & A_{n,n-1}  & A_{n,n}\\\\\n",
    "\\end{bmatrix}\n",
    "\\quad\n",
    "$$\n",
    "\n",
    "**Hint:**\n",
    "\n",
    "Fill the corners of the matrix using asymmetric stencils:\n",
    "\n",
    "* forward FD for $A_{0,0}, A_{0,1}$ and $A_{0,2}$\n",
    "\n",
    "$$\\frac{u_{i}^{n+1}-u_{i}^{n}}{\\Delta t}=\\nu\\frac{u_i^{n}  -2u_{i+1}^{n} + u_{i+2}^{n}}{\\Delta x^2}$$\n",
    "\n",
    "$$u_{i}^{n+1} = (1 + \\beta ) u_{i}^{n} - 2\\beta u_{i+1}^{n} + \\beta u_{i+2}^{n} $$\n",
    "\n",
    "\n",
    "* backward FD for $A_{n,n}, A_{n,n-1}$ and $A_{n,n-2}$\n",
    "\n",
    "$$\\frac{u_{i}^{n+1}-u_{i}^{n}}{\\Delta t}=\\nu\\frac{u_i^{n}  -2u_{i-1}^{n} + u_{i-2}^{n}}{\\Delta x^2}$$\n",
    "\n",
    "$$u_{i}^{n+1} = (1 + \\beta ) u_{i}^{n} - 2\\beta u_{i-1}^{n} + \\beta u_{i-2}^{n} $$\n"
   ]
  },
  {
   "cell_type": "code",
   "execution_count": null,
   "metadata": {},
   "outputs": [],
   "source": [
    "# explicit central FD\n",
    "import numpy as np\n",
    "np.set_printoptions(precision=3, suppress=True)\n",
    "\n",
    "un_ecfd = u_IC.copy()\n",
    "\n",
    "A = np.zeros((nx, nx))\n",
    "                \n",
    "Beta_FD = dt * nu / (dx**2) \n",
    "last_index_in_matrix = nx -1 \n",
    "\n",
    "# the BC  - use one sided FD            \n",
    "A[0, 0] = # TODO...   # forward FD\n",
    "A[0, 1] = # TODO...   # forward FD\n",
    "A[0, 2] = # TODO...   # forward FD\n",
    "A[last_index_in_matrix, last_index_in_matrix-2] = # TODO...  # backward FD\n",
    "A[last_index_in_matrix, last_index_in_matrix-1] = # TODO...  # backward FD\n",
    "A[last_index_in_matrix, last_index_in_matrix] =   # TODO...   # backward FD\n",
    "for i in range(1, last_index_in_matrix): \n",
    "    A[i, i-1] = # TODO...       # left of the diagonal\n",
    "    A[i, i] =   # TODO...       # the diagonal\n",
    "    A[i, i+1] = # TODO...       # right of the diagonal   \n",
    "\n",
    "\n",
    "w, v = np.linalg.eig(A)  # calculate the eigenvalues and eigenvectors\n",
    "# plt.scatter(np.arange(0, len(w)), abs(w))  # plot the length of the eigenvalues\n",
    "# # print(f\"determinant A_inv: {np.linalg.det(A_inv)}\") \n",
    "print(f\"max(abs(w)): {max(abs(w)):.16f}\") \n",
    "\n",
    "\n",
    "for n in range(nt):  #loop for values of n from 0 to nt, so it will run nt times\n",
    "    un_ecfd = A@un_ecfd\n",
    "    # un_ecfd = np.dot(A,un_ecfd) # alternative way of doing the same\n",
    "\n",
    "plt.plot(xspace, un_ecfd)\n"
   ]
  },
  {
   "cell_type": "markdown",
   "metadata": {},
   "source": [
    "## Implicit, central FD\n",
    "\n",
    "The laplace operator is calculated using values from the future ($u^{n+1}$).\n",
    "\n",
    "$$\\frac{u_{i}^{n+1}-u_{i}^{n}}{\\Delta t}=\\nu\\frac{u_{i+1}^{n+1}-2u_{i}^{n+1}+u_{i-1}^{n+1}}{\\Delta x^2}$$\n",
    "\n",
    "$$u_{i}^{n+1}=u_{i}^{n}+\\underbrace{\\frac{\\nu\\Delta t}{\\Delta x^2}}_{\\beta}(u_{i+1}^{n+1}-2u_{i}^{n+1}+u_{i-1}^{n+1})$$\n",
    "\n",
    "$$\n",
    "-\\beta u_{i-1}^{n+1} + (1+2 \\beta)u_{i}^{n+1} - \\beta u_{i+1}^{n+1} = u_{i}^{n}\n",
    "$$\n",
    "\n",
    "Notice, that the scheme can be formulated as:\n",
    "\n",
    "$$\n",
    " \\mathbb{A}  \\boldsymbol{u}^{n+1} =\\boldsymbol{u}^n \n",
    "$$\n",
    "\n",
    "\n",
    "Observe, that $ \\mathbb{A} $ have a tridiagonal structure:\n",
    "\n",
    "$$\n",
    "\\begin{bmatrix} \n",
    "A_{0,0} & A_{0,1} & A_{0,2} & \\\\\n",
    "-\\beta  & 1+2 \\beta & -\\beta \\\\\n",
    "0 & -\\beta  & 1+2 \\beta & -\\beta \\\\\n",
    "0 & 0 &- \\beta & 1+2 \\beta & -\\beta \\\\\n",
    "... \\\\\n",
    "... \\\\\n",
    "... \\\\\n",
    "0 & 0 & 0 & 0 & 0 & -\\beta & 1+2 \\beta & -\\beta \\\\\n",
    "0 & 0 & 0 & 0 & 0 & A_{n,n-2} & A_{n,n-1}  & A_{n,n}\\\\\n",
    "\\end{bmatrix}\n",
    "\\quad\n",
    "$$\n",
    "\n",
    "**Hint:**\n",
    "\n",
    "Fill the corners of the matrix using asymmetric stencils:\n",
    "* forward FD for $A_{0,0}, A_{0,1}$ and $A_{0,2}$\n",
    "\n",
    "$$\\frac{u_{i}^{n+1}-u_{i}^{n}}{\\Delta t}=\\nu\\frac{u_i^{n+1}  -2u_{i+1}^{n+1} + u_{i+2}^{n+1}}{\\Delta x^2}$$\n",
    "\n",
    "$$u_{i}^{n+1} (1-  \\underbrace{\\nu\\frac{\\Delta}{\\Delta x^2}}_{\\beta} ) + 2 \\beta u_{i+1}^{n+1} - \\beta u_{i+2}^{n+1} = u_{i}^{n} $$\n",
    "\n",
    "\n",
    "* backward FD for $A_{n,n}, A_{n,n-1}$ and $A_{n,n-2}$\n",
    "\n",
    "$$\\frac{u_{i}^{n+1}-u_{i}^{n}}{\\Delta t}=\\nu\\frac{u_i^{n+1}  -2u_{i-1}^{n+1} + u_{i-2}^{n+1}}{\\Delta x^2}$$\n",
    "\n",
    "$$u_{i}^{n+1} (1-  \\underbrace{\\nu\\frac{\\Delta}{\\Delta x^2}}_{\\beta} ) + 2 \\beta u_{i-1}^{n+1} - \\beta u_{i-2}^{n+1} = u_{i}^{n} $$\n"
   ]
  },
  {
   "cell_type": "code",
   "execution_count": null,
   "metadata": {},
   "outputs": [],
   "source": [
    "# implicit central FD\n",
    "import numpy as np\n",
    "np.set_printoptions(precision=3, suppress=True)\n",
    "\n",
    "un_icfd = u_IC.copy()\n",
    "A = np.zeros((nx, nx))\n",
    "                \n",
    "Beta_FD = dt * nu / (dx**2) \n",
    "# nt += 100\n",
    "last_index_in_matrix = nx -1 \n",
    "# the BC  - use one sided FD            \n",
    "A[0, 0] = # TODO...   # forward FD\n",
    "A[0, 1] = # TODO...   # forward FD\n",
    "A[0, 2] = # TODO...   # forward FD\n",
    "A[last_index_in_matrix, last_index_in_matrix-2] = # TODO...  # backward FD \n",
    "A[last_index_in_matrix, last_index_in_matrix-1] = # TODO...  # backward FD\n",
    "A[last_index_in_matrix, last_index_in_matrix] =   # TODO...  # backward FD \n",
    "for i in range(1, last_index_in_matrix): \n",
    "    A[i, i-1] = # TODO...        # left of the diagonal\n",
    "    A[i, i] =   # TODO...        # the diagonal\n",
    "    A[i, i+1] = # TODO...        # right of the diagonal   \n",
    "\n",
    "A_inv = np.linalg.inv(A)\n",
    "\n",
    "w, v = np.linalg.eig(A_inv)\n",
    "# plt.scatter(np.arange(0, len(w)), abs(w)) # plot the eigenvalues\n",
    "# # print(f\"determinant A_inv: {np.linalg.det(A_inv)}\") \n",
    "print(f\"max(abs(w)): {max(abs(w)):.16f}\") \n",
    "\n",
    "for n in range(nt):  #loop for values of n from 0 to nt, so it will run nt times\n",
    "    un_icfd = A_inv@un_icfd\n",
    "    # alternative way of doing the same:\n",
    "    #     un_icfd = np.dot(A_inv,un_icfd)\n",
    "    #     b = un_icfd.copy() \n",
    "    #     un_icfd = np.linalg.solve(A, b) # u(t+1)\n",
    "                \n",
    "plt.plot(xspace, un_icfd)"
   ]
  }
 ],
 "metadata": {
  "interpreter": {
   "hash": "f8a2746d3ab3426f08e2132a9e8ad3a7daf862104ae8de960108f6fdcdfbaacf"
  },
  "kernelspec": {
   "display_name": "Python 3",
   "language": "python",
   "name": "python3"
  },
  "language_info": {
   "codemirror_mode": {
    "name": "ipython",
    "version": 3
   },
   "file_extension": ".py",
   "mimetype": "text/x-python",
   "name": "python",
   "nbconvert_exporter": "python",
   "pygments_lexer": "ipython3",
   "version": "3.8.10"
  },
  "metadata": {
   "interpreter": {
    "hash": "f8a2746d3ab3426f08e2132a9e8ad3a7daf862104ae8de960108f6fdcdfbaacf"
   }
  }
 },
 "nbformat": 4,
 "nbformat_minor": 4
}
