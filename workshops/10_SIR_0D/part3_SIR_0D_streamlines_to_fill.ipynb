{
 "cells": [
  {
   "cell_type": "markdown",
   "metadata": {},
   "source": [
    "# Plotting a vector field\n",
    "\n",
    "### S I - Streamlines\n",
    "\n",
    "The task is to plot the streamlines of non-dimensional SIR system.\n",
    "We are interested in the amount of suscpectible and infected individuals during the epidemy.\n",
    "Notice, that the $R$ compartment can be eradicated thanks to the $R = N -I -S$ constraint.\n",
    "\n",
    "\\begin{align*}\n",
    "\\frac{\\partial}{\\partial \\tau} s &= - R_0 s i \\\\\n",
    "\\frac{\\partial}{\\partial \\tau} i &= R_0 s i -  i \\\\\n",
    "\\frac{\\partial}{\\partial \\tau} r &= i\n",
    "\\end{align*}"
   ]
  },
  {
   "cell_type": "code",
   "execution_count": null,
   "metadata": {},
   "outputs": [],
   "source": [
    "%matplotlib inline\n",
    "import numpy as np\n",
    "from scipy.integrate import solve_ivp\n",
    "import matplotlib.pyplot as plt\n",
    "import matplotlib.pylab as pylab\n"
   ]
  },
  {
   "cell_type": "code",
   "execution_count": null,
   "metadata": {},
   "outputs": [],
   "source": [
    "\n",
    "x = np.linspace(0, 1, 50)\n",
    "y = np.linspace(0, 1, 50)\n",
    "\n",
    "S, I = np.meshgrid(x, y) # X, Y = np.meshgrid(x, y)\n",
    "\n",
    "beta = 0.71      # number of contacts per day \n",
    "gamma = 1/2.8    # 1 over days to recovery\n",
    "R0 = beta/gamma  # basic reproduction number\n",
    "\n",
    "N = 1e0  # Size of population [no of people].\n",
    "\n",
    "#dS = # TODO...\n",
    "#dI = # TODO...\n",
    "\n",
    "\n",
    "# Creating plot\n",
    "fig = plt.figure(figsize = (12, 8))\n",
    "magnitude = np.sqrt(dS**2 + dI**2)\n",
    "stream_points = [(x,1-x) for x,y in zip(np.arange(0,1,0.05),np.arange(0,1,0.05))]  \n",
    "strmS = plt.streamplot(S, I, dS, dI, start_points=stream_points, color=magnitude, cmap=plt.cm.coolwarm, linewidth=2, density=10, \n",
    "                       integration_direction='forward')\n",
    "\n",
    "plt.plot(np.arange(0,1,1e-3), 1-np.arange(0,1,1e-3), color=\"crimson\")\n",
    "plt.title(f'SIR Streamlines, R0={R0:.2f}')\n",
    "plt.xlabel('S')\n",
    "plt.ylabel('I')\n",
    "plt.grid(True)\n",
    "plt.show()\n"
   ]
  },
  {
   "cell_type": "markdown",
   "metadata": {},
   "source": [
    "## Task\n",
    "\n",
    "Experiment with different R0 values, for example $R0 \\in [0.01, 0.25, 0.5, 1.0, 2.0, 4.0, 8.0] $\n",
    "\n",
    "Consider the following case:\n",
    "\n",
    "```\n",
    "R0 = 4\n",
    "stream_points = [(0.25, x) for x,y in zip(np.arange(0,0.2,0.01), np.arange(0,0.2,0.01))] \n",
    "and\n",
    "stream_points = [(x, 1e-6) for x,y in zip(np.arange(0,1,0.025), np.arange(0,1,0.025))] # small perturbation of I\n",
    "```\n",
    "\n",
    "The Herd Immunity Treshold (HIT) $ \\approx 75 \\%$, for R0 = 4 and HIT $\\approx 50 \\%$, for R0 = 2.\n",
    "\n",
    "Observe it using the streamlines plot. "
   ]
  },
  {
   "cell_type": "markdown",
   "metadata": {},
   "source": [
    "# Repetition - time domain\n",
    "\n",
    "Let us re-use the result obtained in part1 (time integration of 0D SIR equations). \n",
    "Eradicate the time and plot one of the streamlines in S-I domain."
   ]
  },
  {
   "cell_type": "code",
   "execution_count": null,
   "metadata": {},
   "outputs": [],
   "source": [
    "# selected case - in time domain\n",
    "# from ipynb.fs.full.<notebook_name> import <function_name>\n",
    "\n",
    "from ipynb.fs.full.part1_SIR_0D_SOLUTION import SIR_0D\n",
    "\n",
    "# INITIAL CONDItIONS\n",
    "initial_susceptible = 0.6*N  # initial number of susceptible individuals in population.\n",
    "initial_infections = 0.4*N  # initial number of infected individuals in population.\n",
    "initial_removed = 0  # initial number of removed (recovered) individuals in population.\n",
    "IC = np.array([initial_susceptible, initial_infections, initial_removed])\n",
    "\n",
    "days_to_simulate = 30\n",
    "sol = solve_ivp(SIR_0D,\n",
    "                [0, days_to_simulate],\n",
    "                IC,\n",
    "                method='RK45',\n",
    "                args=[beta, gamma, N],\n",
    "                dense_output=True)\n",
    "\n",
    "t = np.linspace(0, days_to_simulate, 1000)\n",
    "z = sol.sol(t)\n",
    "\n",
    "S, I, R = z\n",
    "\n",
    "\n",
    "params = {'legend.fontsize': 'xx-large',\n",
    "          'figure.figsize': (14, 8),\n",
    "         'axes.labelsize': 'xx-large',\n",
    "         'axes.titlesize':'xx-large',\n",
    "         'xtick.labelsize':'xx-large',\n",
    "         'ytick.labelsize':'xx-large'}\n",
    "pylab.rcParams.update(params)\n",
    "axes = plt.gca()\n",
    "\n",
    "# plt.plot( # TODO\n",
    "#          color=\"green\", marker=\"\", markevery=1, markersize=15, linestyle=\"-\", linewidth=2,\n",
    "#          label='Susceptible')\n",
    "axes.set_xlim(0, 1)\n",
    "axes.set_ylim(0, 1)\n",
    "plt.xlabel('S')\n",
    "plt.ylabel('I')\n",
    "\n",
    "### plot in time domain from part 1 ###\n",
    "# plt.plot(t, S,\n",
    "#          color=\"green\", marker=\"\", markevery=1, markersize=15, linestyle=\"-\", linewidth=2,\n",
    "#          label='Susceptible')\n",
    "# plt.plot(t, I,\n",
    "#          color=\"red\", marker=\"\", markevery=1, markersize=15, linestyle=\"-\", linewidth=2,\n",
    "#          label='Infected')\n",
    "# plt.plot(t, R,\n",
    "#          color=\"black\", marker=\"\", markevery=1, markersize=15, linestyle=\"-\", linewidth=2,\n",
    "#          label='Removed')\n",
    "# plt.xlabel('t [days]')\n",
    "# plt.ylabel('No of people')\n",
    "### end plot in time domain from part 1 ###\n",
    "\n",
    "plt.title('SIR Epidemic Calculator')\n",
    "plt.legend()\n",
    "plt.grid()\n",
    "plt.show()\n"
   ]
  },
  {
   "cell_type": "markdown",
   "metadata": {},
   "source": [
    "# Remarks\n",
    "\n",
    "In case of reinfections (transfer from $R$ to $S$), cycles in SIR the trajecties can be expected."
   ]
  },
  {
   "cell_type": "code",
   "execution_count": null,
   "metadata": {},
   "outputs": [],
   "source": [
    "# A vector plot\n",
    "\n",
    "plt.figure(figsize=(12, 12))\n",
    "# plt.xlim(0, 1)\n",
    "# plt.ylim(0, 1)\n",
    "plt.quiver(S, I, dS, dI)\n",
    "plt.show()"
   ]
  }
 ],
 "metadata": {
  "kernelspec": {
   "display_name": "Python 3.8.10 64-bit ('lectures-env': virtualenvwrapper)",
   "language": "python",
   "name": "python3810jvsc74a57bd0f8a2746d3ab3426f08e2132a9e8ad3a7daf862104ae8de960108f6fdcdfbaacf"
  },
  "language_info": {
   "codemirror_mode": {
    "name": "ipython",
    "version": 3
   },
   "file_extension": ".py",
   "mimetype": "text/x-python",
   "name": "python",
   "nbconvert_exporter": "python",
   "pygments_lexer": "ipython3",
   "version": "3.8.10"
  }
 },
 "nbformat": 4,
 "nbformat_minor": 4
}
